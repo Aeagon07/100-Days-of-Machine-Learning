{
 "cells": [
  {
   "cell_type": "code",
   "execution_count": 3,
   "id": "3c19f5da",
   "metadata": {},
   "outputs": [
    {
     "name": "stdout",
     "output_type": "stream",
     "text": [
      "Collecting numpy\n",
      "  Downloading numpy-2.3.3-cp313-cp313-win_amd64.whl.metadata (60 kB)\n",
      "Downloading numpy-2.3.3-cp313-cp313-win_amd64.whl (12.8 MB)\n",
      "   ---------------------------------------- 0.0/12.8 MB ? eta -:--:--\n",
      "   -- ------------------------------------- 0.8/12.8 MB 5.1 MB/s eta 0:00:03\n",
      "   ----- ---------------------------------- 1.8/12.8 MB 5.2 MB/s eta 0:00:03\n",
      "   ------- -------------------------------- 2.4/12.8 MB 4.4 MB/s eta 0:00:03\n",
      "   ---------- ----------------------------- 3.4/12.8 MB 4.2 MB/s eta 0:00:03\n",
      "   ------------- -------------------------- 4.5/12.8 MB 4.5 MB/s eta 0:00:02\n",
      "   --------------- ------------------------ 5.0/12.8 MB 4.3 MB/s eta 0:00:02\n",
      "   ------------------ --------------------- 6.0/12.8 MB 4.1 MB/s eta 0:00:02\n",
      "   ---------------------- ----------------- 7.1/12.8 MB 4.2 MB/s eta 0:00:02\n",
      "   ------------------------ --------------- 7.9/12.8 MB 4.3 MB/s eta 0:00:02\n",
      "   --------------------------- ------------ 8.9/12.8 MB 4.2 MB/s eta 0:00:01\n",
      "   ------------------------------ --------- 9.7/12.8 MB 4.2 MB/s eta 0:00:01\n",
      "   ---------------------------------- ----- 11.0/12.8 MB 4.4 MB/s eta 0:00:01\n",
      "   ------------------------------------ --- 11.5/12.8 MB 4.3 MB/s eta 0:00:01\n",
      "   -------------------------------------- - 12.3/12.8 MB 4.2 MB/s eta 0:00:01\n",
      "   -------------------------------------- - 12.3/12.8 MB 4.2 MB/s eta 0:00:01\n",
      "   ---------------------------------------  12.6/12.8 MB 3.7 MB/s eta 0:00:01\n",
      "   ---------------------------------------  12.6/12.8 MB 3.7 MB/s eta 0:00:01\n",
      "   ---------------------------------------- 12.8/12.8 MB 3.4 MB/s  0:00:03\n",
      "Installing collected packages: numpy\n",
      "Successfully installed numpy-2.3.3\n"
     ]
    }
   ],
   "source": [
    "!pip install numpy\n"
   ]
  },
  {
   "cell_type": "code",
   "execution_count": null,
   "id": "958eed86",
   "metadata": {},
   "outputs": [],
   "source": [
    "import numpy as np"
   ]
  },
  {
   "cell_type": "code",
   "execution_count": 6,
   "id": "bbe86aa6",
   "metadata": {},
   "outputs": [
    {
     "data": {
      "text/plain": [
       "array(4)"
      ]
     },
     "execution_count": 6,
     "metadata": {},
     "output_type": "execute_result"
    }
   ],
   "source": [
    "a = np.array(4)\n",
    "a"
   ]
  },
  {
   "cell_type": "code",
   "execution_count": null,
   "id": "f992b22b",
   "metadata": {},
   "outputs": [
    {
     "data": {
      "text/plain": [
       "array([1, 2, 3, 4])"
      ]
     },
     "execution_count": 7,
     "metadata": {},
     "output_type": "execute_result"
    }
   ],
   "source": [
    "arr = np.array([1, 2, 3, 4]) # 1D Tensor\n",
    "arr"
   ]
  },
  {
   "cell_type": "code",
   "execution_count": null,
   "id": "9d161e3f",
   "metadata": {},
   "outputs": [
    {
     "data": {
      "text/plain": [
       "1"
      ]
     },
     "execution_count": 8,
     "metadata": {},
     "output_type": "execute_result"
    }
   ],
   "source": [
    "arr.ndim # gives you the dimension of the array"
   ]
  },
  {
   "cell_type": "code",
   "execution_count": 10,
   "id": "2f51da11",
   "metadata": {},
   "outputs": [
    {
     "data": {
      "text/plain": [
       "array([[1, 2, 3],\n",
       "       [4, 5, 6],\n",
       "       [7, 8, 9]])"
      ]
     },
     "execution_count": 10,
     "metadata": {},
     "output_type": "execute_result"
    }
   ],
   "source": [
    "mat = np.array([[1, 2, 3], [4, 5, 6], [7, 8, 9]])\n",
    "mat"
   ]
  }
 ],
 "metadata": {
  "kernelspec": {
   "display_name": "venv",
   "language": "python",
   "name": "python3"
  },
  "language_info": {
   "codemirror_mode": {
    "name": "ipython",
    "version": 3
   },
   "file_extension": ".py",
   "mimetype": "text/x-python",
   "name": "python",
   "nbconvert_exporter": "python",
   "pygments_lexer": "ipython3",
   "version": "3.13.3"
  }
 },
 "nbformat": 4,
 "nbformat_minor": 5
}
